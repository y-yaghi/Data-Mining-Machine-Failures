{
 "cells": [
  {
   "cell_type": "markdown",
   "id": "d4868f6e",
   "metadata": {},
   "source": [
    "# Group 4 Data Processing/Modeling"
   ]
  },
  {
   "cell_type": "code",
   "execution_count": 21,
   "id": "a748e0fc",
   "metadata": {},
   "outputs": [],
   "source": [
    "import pandas as pd\n",
    "import matplotlib.pyplot as plt\n",
    "import seaborn as sns"
   ]
  },
  {
   "cell_type": "markdown",
   "id": "6721d085",
   "metadata": {},
   "source": [
    "#### Loading Dataset"
   ]
  },
  {
   "cell_type": "code",
   "execution_count": 3,
   "id": "8fb0f898",
   "metadata": {},
   "outputs": [],
   "source": [
    "data = pd.read_csv('maint_copy.csv')"
   ]
  },
  {
   "cell_type": "markdown",
   "id": "5602c92b",
   "metadata": {},
   "source": [
    "#### Understanding dataset"
   ]
  },
  {
   "cell_type": "code",
   "execution_count": 4,
   "id": "e3ffc5eb",
   "metadata": {},
   "outputs": [
    {
     "data": {
      "text/plain": [
       "(10000, 15)"
      ]
     },
     "execution_count": 4,
     "metadata": {},
     "output_type": "execute_result"
    }
   ],
   "source": [
    "data.shape"
   ]
  },
  {
   "cell_type": "code",
   "execution_count": 5,
   "id": "a6974a98",
   "metadata": {},
   "outputs": [
    {
     "data": {
      "text/plain": [
       "['UDI',\n",
       " 'Product ID',\n",
       " 'Type',\n",
       " 'Air temperature [K]',\n",
       " 'Process temperature [K]',\n",
       " 'Rotational speed [rpm]',\n",
       " 'Torque [Nm]',\n",
       " 'Tool wear [min]',\n",
       " 'Machine failure',\n",
       " 'TWF',\n",
       " 'HDF',\n",
       " 'PWF',\n",
       " 'OSF',\n",
       " 'RNF',\n",
       " 'diff']"
      ]
     },
     "execution_count": 5,
     "metadata": {},
     "output_type": "execute_result"
    }
   ],
   "source": [
    "list(data.columns.values)"
   ]
  },
  {
   "cell_type": "code",
   "execution_count": 6,
   "id": "32397b1e",
   "metadata": {},
   "outputs": [
    {
     "name": "stdout",
     "output_type": "stream",
     "text": [
      "Number of unique IDs: 10000\n"
     ]
    }
   ],
   "source": [
    "unique_UDI_count = data['UDI'].nunique()\n",
    "print(\"Number of unique IDs:\", unique_UDI_count)"
   ]
  },
  {
   "cell_type": "markdown",
   "id": "ffcbc772",
   "metadata": {},
   "source": [
    "Okay as you can see here, it's spelled UDI, and not UID. In the meantime, keep your eye out on this until we can change it. "
   ]
  },
  {
   "cell_type": "code",
   "execution_count": 7,
   "id": "137f49e2",
   "metadata": {},
   "outputs": [
    {
     "name": "stdout",
     "output_type": "stream",
     "text": [
      "Number of unique Product IDs: 10000\n"
     ]
    }
   ],
   "source": [
    "unique_ProductID_count = data['Product ID'].nunique()\n",
    "print(\"Number of unique Product IDs:\", unique_ProductID_count)"
   ]
  },
  {
   "cell_type": "markdown",
   "id": "bbd1c1e0",
   "metadata": {},
   "source": [
    "Contrary to good practice, someone input ProductID as Product ID, there is a SPACE in the middle, please be mindful until we can change it. "
   ]
  },
  {
   "cell_type": "code",
   "execution_count": 8,
   "id": "dab58b26",
   "metadata": {},
   "outputs": [
    {
     "name": "stdout",
     "output_type": "stream",
     "text": [
      "Number of unique Types: 3\n"
     ]
    }
   ],
   "source": [
    "unique_Type_count = data['Type'].nunique()\n",
    "print(\"Number of unique Types:\", unique_Type_count)"
   ]
  },
  {
   "cell_type": "markdown",
   "id": "5602b832",
   "metadata": {},
   "source": [
    "Please look at the code above. There is only three unique values. Just like how on the Titanic Dataset for the embark column, we need to do a one-hot encoding (or whatever it's called) for this column. Split these three values in three columns and add either Boolean values or 0 and 1s (I opt for the latter)."
   ]
  },
  {
   "cell_type": "code",
   "execution_count": 9,
   "id": "92c94543",
   "metadata": {},
   "outputs": [
    {
     "name": "stdout",
     "output_type": "stream",
     "text": [
      "    UDI Product ID Type  Air temperature [K]  Process temperature [K]  \\\n",
      "0  5910     H35323    H                300.7                    310.2   \n",
      "1    70     L47249    L                298.9                    309.0   \n",
      "2  1325     M16184    M                298.8                    310.1   \n",
      "3  1497     L48676    L                298.0                    308.7   \n",
      "4  3612     L50791    L                301.7                    310.9   \n",
      "\n",
      "   Rotational speed [rpm]  Torque [Nm]  Tool wear [min]  Machine failure  TWF  \\\n",
      "0                    1364         65.3              208                1    1   \n",
      "1                    1410         65.7              191                1    0   \n",
      "2                    1243         74.5              194                1    0   \n",
      "3                    1268         69.4              189                1    0   \n",
      "4                    1405         46.4              207                1    1   \n",
      "\n",
      "   HDF  PWF  OSF  RNF  diff  \n",
      "0    0    1    1    0     2  \n",
      "1    0    1    1    0     1  \n",
      "2    0    1    1    0     1  \n",
      "3    0    1    1    0     1  \n",
      "4    0    0    0    1     1  \n"
     ]
    }
   ],
   "source": [
    "print(data.head())"
   ]
  },
  {
   "cell_type": "code",
   "execution_count": 10,
   "id": "d0e4d998",
   "metadata": {},
   "outputs": [
    {
     "name": "stdout",
     "output_type": "stream",
     "text": [
      "L    6000\n",
      "M    2997\n",
      "H    1003\n",
      "Name: Type, dtype: int64\n",
      "   Count  Percentage\n",
      "L   6000       60.00\n",
      "M   2997       29.97\n",
      "H   1003       10.03\n"
     ]
    }
   ],
   "source": [
    "# The count and frequency of values in Type\n",
    "data['Type'].unique()\n",
    "frequency_type = data['Type'].value_counts()\n",
    "print(frequency_type)\n",
    "\n",
    "\n",
    "percentage_type = data['Type'].value_counts(normalize=True) * 100\n",
    "type_summary = pd.DataFrame({'Count': frequency_type, 'Percentage': percentage_type})\n",
    "print(type_summary)"
   ]
  },
  {
   "cell_type": "markdown",
   "id": "aec35a70",
   "metadata": {},
   "source": [
    "Okay this is some good variation"
   ]
  },
  {
   "cell_type": "code",
   "execution_count": 11,
   "id": "ad152905",
   "metadata": {},
   "outputs": [
    {
     "name": "stdout",
     "output_type": "stream",
     "text": [
      "0    9661\n",
      "1     339\n",
      "Name: Machine failure, dtype: int64\n",
      "   Count  Percentage\n",
      "0   9661       96.61\n",
      "1    339        3.39\n"
     ]
    }
   ],
   "source": [
    "# The count and frequency of values in Machine Failure\n",
    "data['Machine failure'].unique()\n",
    "frequency_machine_fail = data['Machine failure'].value_counts()\n",
    "print(frequency_machine_fail)\n",
    "\n",
    "percentage_machine_fail = data['Machine failure'].value_counts(normalize=True) * 100\n",
    "machine_fail_summary = pd.DataFrame({'Count': frequency_machine_fail, 'Percentage': percentage_machine_fail})\n",
    "print(machine_fail_summary)"
   ]
  },
  {
   "cell_type": "markdown",
   "id": "3476fe10",
   "metadata": {},
   "source": [
    "I don't really like those numbers, remember to discuss"
   ]
  },
  {
   "cell_type": "code",
   "execution_count": 12,
   "id": "94b40c34",
   "metadata": {},
   "outputs": [
    {
     "name": "stdout",
     "output_type": "stream",
     "text": [
      "0    9954\n",
      "1      46\n",
      "Name: TWF, dtype: int64\n",
      "   Count  Percentage\n",
      "0   9954       99.54\n",
      "1     46        0.46\n"
     ]
    }
   ],
   "source": [
    "# The count and frequency of values in TWF\n",
    "data['TWF'].unique()\n",
    "frequency_TWF = data['TWF'].value_counts()\n",
    "print(frequency_TWF)\n",
    "\n",
    "percentage_TWF = data['TWF'].value_counts(normalize=True) * 100\n",
    "TWF_summary = pd.DataFrame({'Count': frequency_TWF, 'Percentage': percentage_TWF})\n",
    "print(TWF_summary)"
   ]
  },
  {
   "cell_type": "markdown",
   "id": "184cf0d6",
   "metadata": {},
   "source": [
    "Again, not good, but I'm not sure if this percentage matters."
   ]
  },
  {
   "cell_type": "code",
   "execution_count": 13,
   "id": "2093110a",
   "metadata": {},
   "outputs": [
    {
     "name": "stdout",
     "output_type": "stream",
     "text": [
      "0    9885\n",
      "1     115\n",
      "Name: HDF, dtype: int64\n",
      "   Count  Percentage\n",
      "0   9885       98.85\n",
      "1    115        1.15\n"
     ]
    }
   ],
   "source": [
    "# The count and frequency of values in HDF\n",
    "data['HDF'].unique()\n",
    "frequency_HDF = data['HDF'].value_counts()\n",
    "print(frequency_HDF)\n",
    "\n",
    "percentage_HDF = data['HDF'].value_counts(normalize=True) * 100\n",
    "HDF_summary = pd.DataFrame({'Count': frequency_HDF, 'Percentage': percentage_HDF})\n",
    "print(HDF_summary)"
   ]
  },
  {
   "cell_type": "code",
   "execution_count": 14,
   "id": "e9e28060",
   "metadata": {},
   "outputs": [
    {
     "name": "stdout",
     "output_type": "stream",
     "text": [
      "0    9905\n",
      "1      95\n",
      "Name: PWF, dtype: int64\n",
      "   Count  Percentage\n",
      "0   9905       99.05\n",
      "1     95        0.95\n"
     ]
    }
   ],
   "source": [
    "# The count and frequency of values in PWF\n",
    "data['PWF'].unique()\n",
    "frequency_PWF = data['PWF'].value_counts()\n",
    "print(frequency_PWF)\n",
    "\n",
    "percentage_PWF = data['PWF'].value_counts(normalize=True) * 100\n",
    "PWF_summary = pd.DataFrame({'Count': frequency_PWF, 'Percentage': percentage_PWF})\n",
    "print(PWF_summary)"
   ]
  },
  {
   "cell_type": "code",
   "execution_count": 15,
   "id": "dd47bc45",
   "metadata": {},
   "outputs": [
    {
     "name": "stdout",
     "output_type": "stream",
     "text": [
      "0    9902\n",
      "1      98\n",
      "Name: OSF, dtype: int64\n",
      "   Count  Percentage\n",
      "0   9902       99.02\n",
      "1     98        0.98\n"
     ]
    }
   ],
   "source": [
    "# The count and frequency of values in OSF\n",
    "data['OSF'].unique()\n",
    "frequency_OSF = data['OSF'].value_counts()\n",
    "print(frequency_OSF)\n",
    "\n",
    "percentage_OSF = data['OSF'].value_counts(normalize=True) * 100\n",
    "OSF_summary = pd.DataFrame({'Count': frequency_OSF, 'Percentage': percentage_OSF})\n",
    "print(OSF_summary)"
   ]
  },
  {
   "cell_type": "code",
   "execution_count": 16,
   "id": "9b11b6c9",
   "metadata": {},
   "outputs": [
    {
     "name": "stdout",
     "output_type": "stream",
     "text": [
      "0    9981\n",
      "1      19\n",
      "Name: RNF, dtype: int64\n",
      "   Count  Percentage\n",
      "0   9981       99.81\n",
      "1     19        0.19\n"
     ]
    }
   ],
   "source": [
    "# The count and frequency of values in RNF\n",
    "data['RNF'].unique()\n",
    "frequency_RNF = data['RNF'].value_counts()\n",
    "print(frequency_RNF)\n",
    "\n",
    "percentage_RNF = data['RNF'].value_counts(normalize=True) * 100\n",
    "RNF_summary = pd.DataFrame({'Count': frequency_RNF, 'Percentage': percentage_RNF})\n",
    "print(RNF_summary)"
   ]
  },
  {
   "cell_type": "markdown",
   "id": "f3de3650",
   "metadata": {},
   "source": [
    "Just double-checking that there is for sure no missing values"
   ]
  },
  {
   "cell_type": "code",
   "execution_count": 17,
   "id": "882f93ab",
   "metadata": {},
   "outputs": [
    {
     "name": "stdout",
     "output_type": "stream",
     "text": [
      "UDI                        0\n",
      "Product ID                 0\n",
      "Type                       0\n",
      "Air temperature [K]        0\n",
      "Process temperature [K]    0\n",
      "Rotational speed [rpm]     0\n",
      "Torque [Nm]                0\n",
      "Tool wear [min]            0\n",
      "Machine failure            0\n",
      "TWF                        0\n",
      "HDF                        0\n",
      "PWF                        0\n",
      "OSF                        0\n",
      "RNF                        0\n",
      "diff                       0\n",
      "dtype: int64\n"
     ]
    }
   ],
   "source": [
    "missing_values = data.isnull().sum()\n",
    "print(missing_values)"
   ]
  },
  {
   "cell_type": "code",
   "execution_count": 22,
   "id": "cf94d27b",
   "metadata": {},
   "outputs": [
    {
     "name": "stderr",
     "output_type": "stream",
     "text": [
      "/var/folders/c7/mwgyyxds33bg8rksxm07_r_00000gn/T/ipykernel_4546/3900836507.py:2: FutureWarning: The default value of numeric_only in DataFrame.corr is deprecated. In a future version, it will default to False. Select only valid columns or specify the value of numeric_only to silence this warning.\n",
      "  corr_matrix = data.drop(columns=columns_to_exclude).corr()\n"
     ]
    },
    {
     "data": {
      "image/png": "[encoded data removed]",
      "text/plain": [
       "<Figure size 1000x800 with 2 Axes>"
      ]
     },
     "metadata": {},
     "output_type": "display_data"
    }
   ],
   "source": [
    "columns_to_exclude = [\"diff\"]  \n",
    "corr_matrix = data.drop(columns=columns_to_exclude).corr()\n",
    "filtered_corr = corr_matrix[(corr_matrix > 0.6) | (corr_matrix < -0.6)]\n",
    "plt.figure(figsize=(10, 8))\n",
    "sns.heatmap(filtered_corr, annot=True, cmap=\"coolwarm\", fmt=\".2f\", linewidths= None, mask=filtered_corr.isnull())\n",
    "plt.title('Filtered Correlation Matrix', fontsize = 16)\n",
    "plt.show()"
   ]
  },
  {
   "cell_type": "code",
   "execution_count": null,
   "id": "8b9db0e7",
   "metadata": {},
   "outputs": [],
   "source": []
  },
  {
   "cell_type": "code",
   "execution_count": null,
   "id": "70843c71",
   "metadata": {},
   "outputs": [],
   "source": []
  }
 ],
 "metadata": {
  "kernelspec": {
   "display_name": "Python 3 (ipykernel)",
   "language": "python",
   "name": "python3"
  },
  "language_info": {
   "codemirror_mode": {
    "name": "ipython",
    "version": 3
   },
   "file_extension": ".py",
   "mimetype": "text/x-python",
   "name": "python",
   "nbconvert_exporter": "python",
   "pygments_lexer": "ipython3",
   "version": "3.10.9"
  }
 },
 "nbformat": 4,
 "nbformat_minor": 5
}
